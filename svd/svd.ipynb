{
 "cells": [
  {
   "cell_type": "markdown",
   "metadata": {},
   "source": [
    "# Singular Value Decomposition"
   ]
  },
  {
   "cell_type": "markdown",
   "metadata": {},
   "source": [
    "In **Matrix Factorization**, the matrix \\( A \\) is approximated as follows:\n",
    "\n",
    "$$ A \\approx U_k \\Sigma_k V_k^T $$\n",
    "\n",
    "Where:\n",
    "- \\( U_k \\): The matrix representing user features.\n",
    "- \\( \\Sigma_k \\): The diagonal matrix of singular values (importance weights).\n",
    "- \\( V_k^T \\): The matrix representing item features.\n"
   ]
  },
  {
   "cell_type": "markdown",
   "metadata": {},
   "source": []
  },
  {
   "cell_type": "markdown",
   "metadata": {},
   "source": [
    "## Singular Value Decomposition (SVD)\n",
    "\n",
    "SVD is a linear algebra technique that decomposes a matrix \\( A \\) into three other matrices:\n",
    "\n",
    "$$\n",
    "A = U \\Sigma V^T\n",
    "$$\n",
    "\n",
    "Where:\n",
    "\n",
    "\n",
    "- \\( A \\): The original matrix of size \\( m \\times n \\) (e.g., users vs. items interaction matrix in recommender systems).\n",
    "- \\( U \\): A matrix of size \\( m \\times r \\) containing the left singular vectors (orthonormal basis for users).\n",
    "- \\( \\Sigma \\): A diagonal matrix of size \\( r \\times r \\) containing singular values (importance weights).\n",
    "- \\( V^T \\): A matrix of size \\( r \\times n \\) containing the right singular vectors (orthonormal basis for items).\n",
    "\n",
    "Here, \\( r \\) is the rank of the matrix \\( A \\), i.e., the number of non-zero singular values.\n",
    "$"
   ]
  },
  {
   "cell_type": "markdown",
   "metadata": {},
   "source": []
  }
 ],
 "metadata": {
  "language_info": {
   "name": "python"
  }
 },
 "nbformat": 4,
 "nbformat_minor": 2
}
